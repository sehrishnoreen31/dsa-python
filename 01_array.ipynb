{
 "cells": [
  {
   "cell_type": "code",
   "execution_count": 31,
   "id": "22d76d32",
   "metadata": {},
   "outputs": [],
   "source": [
    "import array as arr"
   ]
  },
  {
   "cell_type": "code",
   "execution_count": 32,
   "id": "3f3693aa",
   "metadata": {},
   "outputs": [
    {
     "data": {
      "text/plain": [
       "array('i', [2, 4, 6, 45, 2, 25])"
      ]
     },
     "metadata": {},
     "output_type": "display_data"
    }
   ],
   "source": [
    "arr1 = arr.array('i', [2,4,6,45,2,25])\n",
    "display(arr1)"
   ]
  },
  {
   "cell_type": "code",
   "execution_count": 33,
   "id": "6487c62a",
   "metadata": {},
   "outputs": [
    {
     "name": "stdout",
     "output_type": "stream",
     "text": [
      "2\n",
      "6\n",
      "45\n",
      "loop\n",
      "2\n",
      "4\n",
      "6\n",
      "45\n",
      "2\n",
      "25\n",
      "enumerate\n",
      "0 2\n",
      "1 4\n",
      "2 6\n",
      "3 45\n",
      "4 2\n",
      "5 25\n",
      "array('i', [4, 6])\n"
     ]
    }
   ],
   "source": [
    "# access \n",
    "print(arr1[0])\n",
    "print(arr1[2])\n",
    "print(arr1[3])\n",
    "\n",
    "# loop\n",
    "print('loop')\n",
    "for i in arr1:\n",
    "    print(i)\n",
    "\n",
    "# enumerate\n",
    "print('enumerate')\n",
    "for loc, val in enumerate(arr1):\n",
    "    print(loc, val)\n",
    "    \n",
    "# range\n",
    "print(arr1[1:3])"
   ]
  },
  {
   "cell_type": "code",
   "execution_count": 34,
   "id": "1d1af042",
   "metadata": {},
   "outputs": [
    {
     "name": "stdout",
     "output_type": "stream",
     "text": [
      "array('i', [2, 4, 6, 45, 2, 2, 25])\n",
      "array('i', [2, 4, 6, 45, 2, 2, 25, 3])\n",
      "array('i', [8, 2, 4, 6, 45, 2, 2, 25, 3])\n",
      "array('i', [8, 2, 4, 6, 45, 2, 2, 25, 3, 3, 4, 5])\n"
     ]
    }
   ],
   "source": [
    "# insert\n",
    "arr1.insert(4,2) # insert 2 at index 4 \n",
    "print(arr1)\n",
    "\n",
    "arr1.append(3) # append 3 at the end \n",
    "print(arr1)\n",
    "\n",
    "arr1.insert(0, 8) # insert 8 at index 0\n",
    "print(arr1)\n",
    "\n",
    "# extend the array \n",
    "arr2 = arr.array('i',[3,4,5])\n",
    "arr1.extend(arr2)\n",
    "print(arr1)"
   ]
  },
  {
   "cell_type": "code",
   "execution_count": 35,
   "id": "ed649b6f",
   "metadata": {},
   "outputs": [
    {
     "name": "stdout",
     "output_type": "stream",
     "text": [
      "array('i', [8, 2, 6, 45, 2, 2, 25, 3, 3, 4, 5])\n",
      "array('i', [8, 2, 6, 45, 2, 2, 25, 3, 3, 4])\n",
      "array('i', [8, 2, 6, 45, 2, 2, 3, 3, 4])\n"
     ]
    }
   ],
   "source": [
    "# remove \n",
    "arr1.remove(4) # removes 4 first occurrence\n",
    "print(arr1)\n",
    "\n",
    "arr1.pop()  #removes last item\n",
    "print(arr1)\n",
    "\n",
    "arr1.pop(6) #removes the item at index 6\n",
    "print(arr1)"
   ]
  },
  {
   "cell_type": "code",
   "execution_count": 36,
   "id": "0f91af2b",
   "metadata": {},
   "outputs": [
    {
     "name": "stdout",
     "output_type": "stream",
     "text": [
      "for loop\n",
      "8\n",
      "2\n",
      "6\n",
      "45\n",
      "2\n",
      "2\n",
      "3\n",
      "3\n",
      "4\n",
      "While loop\n",
      "8\n",
      "2\n",
      "6\n",
      "45\n",
      "2\n",
      "2\n",
      "3\n",
      "3\n",
      "4\n"
     ]
    }
   ],
   "source": [
    "# traverse array\n",
    "print('for loop')\n",
    "for i in arr1:\n",
    "    print(i)\n",
    "    \n",
    "# while loop\n",
    "print('While loop')\n",
    "a = len(arr1)\n",
    "c = 0\n",
    "while c < a :\n",
    "    print(arr1[c])\n",
    "    c+=1"
   ]
  },
  {
   "cell_type": "code",
   "execution_count": 37,
   "id": "0178946c",
   "metadata": {},
   "outputs": [
    {
     "name": "stdout",
     "output_type": "stream",
     "text": [
      "shallow copy\n",
      "array('i', [8, 2, 6, 45, 2, 2, 3, 3, 4])\n",
      "array('i', [8, 2, 6, 45, 2, 2, 3, 3, 4])\n",
      "array('i', [8, 2, 6, 44, 2, 2, 3, 3, 4])\n",
      "array('i', [8, 2, 6, 44, 2, 2, 3, 3, 4])\n",
      "deep copy\n",
      "array('i', [8, 2, 6, 44, 2, 2, 3, 3, 4])\n",
      "array('i', [8, 2, 6, 78, 2, 2, 3, 3, 4])\n",
      "array('i', [8, 2, 6, 44, 2, 2, 3, 3, 4])\n"
     ]
    }
   ],
   "source": [
    "# copy array\n",
    "print('shallow copy')\n",
    "arr2 = arr1\n",
    "print(arr2)\n",
    "print(arr1)\n",
    "arr2[3] = 44\n",
    "print(arr1)\n",
    "print(arr2)\n",
    "# does not create a copy, same object\n",
    "\n",
    "\n",
    "# deep copy, creates a copy\n",
    "print('deep copy')\n",
    "import copy\n",
    "new_array = copy.deepcopy(arr2)\n",
    "print(new_array)\n",
    "new_array[3] = 78\n",
    "print(new_array)\n",
    "print(arr2)"
   ]
  },
  {
   "cell_type": "code",
   "execution_count": 40,
   "id": "58653603",
   "metadata": {},
   "outputs": [
    {
     "name": "stdout",
     "output_type": "stream",
     "text": [
      "using range\n",
      "array('i', [8, 2, 6, 44, 2, 2, 3, 3, 4])\n",
      "array('i', [4, 3, 3, 2, 2, 44, 6, 2, 8])\n",
      "using reversed()\n",
      "array('i', [8, 2, 6, 44, 2, 2, 3, 3, 4])\n",
      "[4, 3, 3, 2, 2, 44, 6, 2, 8]\n",
      "using for loop\n",
      "array('i', [8, 2, 6, 44, 2, 2, 3, 3, 4])\n",
      "array('i', [4, 3, 3, 2, 2, 44, 6, 2, 8])\n"
     ]
    }
   ],
   "source": [
    "# reverse array\n",
    "print('using range')\n",
    "reversed_arr = arr1[::-1]\n",
    "print(arr1)\n",
    "print(reversed_arr)\n",
    "\n",
    "# using reversed() method\n",
    "print('using reversed()')\n",
    "reversed_arr2 = list(reversed(arr1))\n",
    "print(arr1)\n",
    "print(reversed_arr2)\n",
    "\n",
    "# using for loop \n",
    "reversed_arr3 = arr.array('i')\n",
    "print('using for loop')\n",
    "for i in range(len(arr1)-1, -1, -1):\n",
    "    reversed_arr3.append(arr1[i])\n",
    "print(arr1)\n",
    "print(reversed_arr3)"
   ]
  },
  {
   "cell_type": "code",
   "execution_count": 46,
   "id": "1882a76c",
   "metadata": {},
   "outputs": [
    {
     "name": "stdout",
     "output_type": "stream",
     "text": [
      "array('i', [2, 2, 2, 3, 3, 4, 6, 8, 44])\n",
      "[2, 2, 2, 3, 3, 4, 6, 8, 44]\n"
     ]
    }
   ],
   "source": [
    "# sorting array\n",
    "# using for loop \n",
    "for i in range(0, len(arr1)):\n",
    "    for j in range(i+1, len(arr1)):\n",
    "        if arr1[i] > arr1[j]:\n",
    "            arr1[i],arr1[j] = arr1[j],arr1[i]\n",
    "print(arr1)\n",
    "\n",
    "# using sorted()\n",
    "sorted_arr = sorted(arr2)\n",
    "print(sorted_arr)"
   ]
  },
  {
   "cell_type": "code",
   "execution_count": 64,
   "id": "6c5fd185",
   "metadata": {},
   "outputs": [
    {
     "name": "stdout",
     "output_type": "stream",
     "text": [
      "not found\n",
      "not found\n",
      "not found\n",
      "not found\n",
      "not found\n",
      "4 found\n",
      "\n",
      "\n",
      "not found\n",
      "not found\n",
      "not found\n",
      "not found\n",
      "not found\n",
      "not found\n",
      "not found\n",
      "not found\n",
      "not found\n",
      "\n",
      "\n",
      "2 found\n",
      "\n",
      "\n"
     ]
    }
   ],
   "source": [
    "# searching \n",
    "for i in arr2:\n",
    "    if i == 4:\n",
    "        print(i, 'found')\n",
    "        break\n",
    "    else:\n",
    "        print(f'not found')\n",
    "print('\\n')    \n",
    "  \n",
    "for i in arr2:\n",
    "    if i == 5:\n",
    "        print(i)\n",
    "        break\n",
    "    else:\n",
    "        print(f'not found')\n",
    "print('\\n') \n",
    "\n",
    "for i in arr2:\n",
    "    if i == 2:\n",
    "        print(i, 'found')\n",
    "        break\n",
    "    else:\n",
    "        print(f'not found')\n",
    "print('\\n') "
   ]
  }
 ],
 "metadata": {
  "kernelspec": {
   "display_name": "Python 3",
   "language": "python",
   "name": "python3"
  },
  "language_info": {
   "codemirror_mode": {
    "name": "ipython",
    "version": 3
   },
   "file_extension": ".py",
   "mimetype": "text/x-python",
   "name": "python",
   "nbconvert_exporter": "python",
   "pygments_lexer": "ipython3",
   "version": "3.13.1"
  }
 },
 "nbformat": 4,
 "nbformat_minor": 5
}
