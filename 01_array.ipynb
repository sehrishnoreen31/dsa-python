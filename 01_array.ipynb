{
 "cells": [
  {
   "cell_type": "code",
   "execution_count": 36,
   "id": "22d76d32",
   "metadata": {},
   "outputs": [],
   "source": [
    "import array as arr"
   ]
  },
  {
   "cell_type": "code",
   "execution_count": 37,
   "id": "3f3693aa",
   "metadata": {},
   "outputs": [
    {
     "data": {
      "text/plain": [
       "array('i', [2, 4, 6, 45, 2, 25])"
      ]
     },
     "metadata": {},
     "output_type": "display_data"
    }
   ],
   "source": [
    "arr1 = arr.array('i', [2,4,6,45,2,25])\n",
    "display(arr1)"
   ]
  },
  {
   "cell_type": "code",
   "execution_count": 38,
   "id": "6487c62a",
   "metadata": {},
   "outputs": [
    {
     "name": "stdout",
     "output_type": "stream",
     "text": [
      "2\n",
      "6\n",
      "45\n",
      "loop\n",
      "2\n",
      "4\n",
      "6\n",
      "45\n",
      "2\n",
      "25\n",
      "enumerate\n",
      "0 2\n",
      "1 4\n",
      "2 6\n",
      "3 45\n",
      "4 2\n",
      "5 25\n",
      "array('i', [4, 6])\n"
     ]
    }
   ],
   "source": [
    "# access \n",
    "print(arr1[0])\n",
    "print(arr1[2])\n",
    "print(arr1[3])\n",
    "\n",
    "# loop\n",
    "print('loop')\n",
    "for i in arr1:\n",
    "    print(i)\n",
    "\n",
    "# enumerate\n",
    "print('enumerate')\n",
    "for loc, val in enumerate(arr1):\n",
    "    print(loc, val)\n",
    "    \n",
    "# range\n",
    "print(arr1[1:3])"
   ]
  },
  {
   "cell_type": "code",
   "execution_count": 39,
   "id": "1d1af042",
   "metadata": {},
   "outputs": [
    {
     "name": "stdout",
     "output_type": "stream",
     "text": [
      "array('i', [2, 4, 6, 45, 2, 2, 25])\n",
      "array('i', [2, 4, 6, 45, 2, 2, 25, 3])\n",
      "array('i', [8, 2, 4, 6, 45, 2, 2, 25, 3])\n",
      "array('i', [8, 2, 4, 6, 45, 2, 2, 25, 3, 3, 4, 5])\n"
     ]
    }
   ],
   "source": [
    "# insert\n",
    "arr1.insert(4,2) # insert 2 at index 4 \n",
    "print(arr1)\n",
    "\n",
    "arr1.append(3) # append 3 at the end \n",
    "print(arr1)\n",
    "\n",
    "arr1.insert(0, 8) # insert 8 at index 0\n",
    "print(arr1)\n",
    "\n",
    "# extend the array \n",
    "arr2 = arr.array('i',[3,4,5])\n",
    "arr1.extend(arr2)\n",
    "print(arr1)"
   ]
  },
  {
   "cell_type": "code",
   "execution_count": null,
   "id": "ed649b6f",
   "metadata": {},
   "outputs": [
    {
     "name": "stdout",
     "output_type": "stream",
     "text": [
      "array('i', [8, 2, 6, 45, 2, 2, 25, 3, 3, 4, 5])\n",
      "array('i', [8, 2, 6, 45, 2, 2, 25, 3, 3, 4])\n",
      "array('i', [8, 2, 6, 45, 2, 2, 3, 3, 4])\n"
     ]
    }
   ],
   "source": [
    "# remove \n",
    "arr1.remove(4) # removes 4 first occurrence\n",
    "print(arr1)\n",
    "\n",
    "arr1.pop()  #removes last item\n",
    "print(arr1)\n",
    "\n",
    "arr1.pop(6) #removes the item at index 6\n",
    "print(arr1)"
   ]
  }
 ],
 "metadata": {
  "kernelspec": {
   "display_name": "Python 3",
   "language": "python",
   "name": "python3"
  },
  "language_info": {
   "codemirror_mode": {
    "name": "ipython",
    "version": 3
   },
   "file_extension": ".py",
   "mimetype": "text/x-python",
   "name": "python",
   "nbconvert_exporter": "python",
   "pygments_lexer": "ipython3",
   "version": "3.13.1"
  }
 },
 "nbformat": 4,
 "nbformat_minor": 5
}
